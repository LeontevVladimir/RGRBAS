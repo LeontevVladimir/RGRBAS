{
  "nbformat": 4,
  "nbformat_minor": 0,
  "metadata": {
    "colab": {
      "name": "Greek_Alphabet.ipynb",
      "provenance": [],
      "toc_visible": true
    },
    "kernelspec": {
      "name": "python3",
      "display_name": "Python 3"
    },
    "language_info": {
      "name": "python"
    }
  },
  "cells": [
    {
      "cell_type": "markdown",
      "source": [
        "# Греческий Алфавит\n"
      ],
      "metadata": {
        "id": "3cNJx9wPUV3G"
      }
    },
    {
      "cell_type": "markdown",
      "source": [
        "Заглавная | Строчная | Название\n",
        "--- | --- | ---\n",
        "A | $\\alpha$ | Альфа\n",
        "B | $\\beta$ | Бета\n",
        "$\\Gamma$ | $\\gamma$ | Гамма\n",
        "$\\Delta$ | $\\delta$ | Дельта\n",
        "$E$ | $\\epsilon$ | Эпсилон\n",
        "$Z$ | $\\zeta$ | Дзета\n",
        "$H$ | $\\eta$ | Эта\n",
        "$\\Theta$ | $\\theta$ | Тета\n",
        "$I$ | $\\iota$ | Йота\n",
        "$K$ | $\\kappa$ | Каппа\n",
        "$\\Lambda$ | $\\lambda$ | Лямбда\n",
        "$M$ | $\\mu$ | Мю\n",
        "$N$ | $\\nu$ | Ню\n",
        "$\\Xi$ | $\\xi$ | Кси\n",
        "$O$ | $o$ | Омикрон\n",
        "$\\Pi$ | $\\pi$ | Пи\n",
        "$P$ | $\\rho$ | Ро\n",
        "$\\Sigma$ | $\\sigma$ | Сигма\n",
        "$T$ | $\\tau$ | Тау\n",
        "$\\Upsilon$ | $\\upsilon$ | Ипсилон\n",
        "$\\Phi$ | $\\phi$ | Фи\n",
        "$X$ | $\\chi$ | Хи\n",
        "$\\Psi$ | $\\psi$ | Пси\n",
        "$\\Omega$ | $\\omega$ | Омега\n",
        "\n",
        "Формула в отдельной строке\n",
        "$${\\displaystyle f(x)={\\frac {1}{\\sigma {\\sqrt {2\\pi }}}}e^{-{\\frac {1}{2}}\\left({\\frac {x-\\mu }{\\sigma }}\\right)^{2}}}$$\n",
        "Формула в тексте\n",
        "${\\displaystyle f(x)={\\frac {1}{\\sigma {\\sqrt {2\\pi }}}}e^{-{\\frac {1}{2}}\\left({\\frac {x-\\mu }{\\sigma }}\\right)^{2}}}$"
      ],
      "metadata": {
        "id": "Pm5IeJqjUbMX"
      }
    }
  ]
}